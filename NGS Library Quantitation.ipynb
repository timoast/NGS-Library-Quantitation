{
 "metadata": {
  "name": "",
  "signature": "sha256:50f1260a52cbf88ab7539aa9d9ee2fca1ea192efbfbe92b743500bd7039e4bca"
 },
 "nbformat": 3,
 "nbformat_minor": 0,
 "worksheets": [
  {
   "cells": [
    {
     "cell_type": "heading",
     "level": 1,
     "metadata": {},
     "source": [
      "NGS Library Quantitation"
     ]
    },
    {
     "cell_type": "markdown",
     "metadata": {},
     "source": [
      "Dilute MethylC-Seq libraries 1:1000 and RNA-Seq libraries 1:10000. Quantitate using qPCR."
     ]
    },
    {
     "cell_type": "code",
     "collapsed": false,
     "input": [
      "import plotly\n",
      "import plotly.plotly as py\n",
      "from plotly.graph_objs import *\n",
      "import plotly.tools as tls\n",
      "import numpy as np\n",
      "import pandas as pd\n",
      "from __future__ import division\n",
      "\n",
      "plotly.__version__, np.__version__, pd.__version__"
     ],
     "language": "python",
     "metadata": {},
     "outputs": []
    },
    {
     "cell_type": "markdown",
     "metadata": {},
     "source": [
      "Sign into plotly using credentials file. To make a plotly account, go to https://plot.ly/. To make credentials file for the first time, run:\n",
      "\n",
      "```python\n",
      "import plotly.tools as tls\n",
      "tls.set_credentials_file(username=\"your_username\", api_key=\"your_api_key\")\n",
      "```"
     ]
    },
    {
     "cell_type": "code",
     "collapsed": false,
     "input": [
      "my_creds = tls.get_credentials_file()\n",
      "py.sign_in(my_creds['username'], my_creds['api_key'])"
     ],
     "language": "python",
     "metadata": {},
     "outputs": []
    },
    {
     "cell_type": "markdown",
     "metadata": {},
     "source": [
      "Function to convert pandas dataframe to plotly interface edited from http://nbviewer.ipython.org/gist/nipunreddevil/7734529"
     ]
    },
    {
     "cell_type": "code",
     "collapsed": false,
     "input": [
      "def df_to_iplot(df):\n",
      "    \n",
      "    x = df.index.values\n",
      "    lines={}\n",
      "    for key in df:\n",
      "        lines[key]={}\n",
      "        lines[key][\"x\"]=x\n",
      "        lines[key][\"y\"]=df[key].values\n",
      "        lines[key][\"name\"]=key\n",
      "        lines[key][\"type\"]='bar'\n",
      "        lines[key][\"error_y\"]={'type': 'data',\n",
      "    'array': sem['std'],\n",
      "    'visible': True,\n",
      "    'color': 'rgb(67, 67, 67)'}\n",
      "        \n",
      "    lines_plotly=[lines[key] for key in df]\n",
      "    return lines_plotly"
     ],
     "language": "python",
     "metadata": {},
     "outputs": []
    },
    {
     "cell_type": "heading",
     "level": 2,
     "metadata": {},
     "source": [
      "First-round quantitation:"
     ]
    },
    {
     "cell_type": "markdown",
     "metadata": {},
     "source": [
      "Import qPCR data from file. Enter file name below, with path to file if not in current directory.  \n",
      "**Note: you may want to delete some rows first if there are other people's samples in the table**"
     ]
    },
    {
     "cell_type": "code",
     "collapsed": false,
     "input": [
      "data = pd.DataFrame.from_csv('2014.04.10_qpcr.txt', sep='\\t', header=1, index_col=0)"
     ],
     "language": "python",
     "metadata": {},
     "outputs": []
    },
    {
     "cell_type": "markdown",
     "metadata": {},
     "source": [
      "Print first five rows to check data imported correctly"
     ]
    },
    {
     "cell_type": "code",
     "collapsed": false,
     "input": [
      "data[:5]"
     ],
     "language": "python",
     "metadata": {},
     "outputs": []
    },
    {
     "cell_type": "markdown",
     "metadata": {},
     "source": [
      "As there are multiple rows with the same name (dilution replicates), group based on name and record mean and standard deviation for each sample."
     ]
    },
    {
     "cell_type": "code",
     "collapsed": false,
     "input": [
      "agg_data = data.groupby(['Name'], as_index=True).agg([np.mean, np.std])"
     ],
     "language": "python",
     "metadata": {},
     "outputs": []
    },
    {
     "cell_type": "code",
     "collapsed": false,
     "input": [
      "agg_data[:5]"
     ],
     "language": "python",
     "metadata": {},
     "outputs": []
    },
    {
     "cell_type": "markdown",
     "metadata": {},
     "source": [
      "Now drop columns that we are not interested in:"
     ]
    },
    {
     "cell_type": "code",
     "collapsed": false,
     "input": [
      "agg_data = agg_data.drop(['Color', 'Cp', 'Standard'],1)['Concentration']\n",
      "agg_data"
     ],
     "language": "python",
     "metadata": {},
     "outputs": []
    },
    {
     "cell_type": "markdown",
     "metadata": {},
     "source": [
      "Convert to format that can be plotted by plotly and separate mean and std"
     ]
    },
    {
     "cell_type": "code",
     "collapsed": false,
     "input": [
      "mean = agg_data.drop(['std'], 1)\n",
      "sem  = agg_data.drop(['mean'], 1)/np.sqrt(3)"
     ],
     "language": "python",
     "metadata": {},
     "outputs": []
    },
    {
     "cell_type": "code",
     "collapsed": false,
     "input": [
      "data_convert = df_to_iplot(mean)\n",
      "data_convert = Data(data_convert)"
     ],
     "language": "python",
     "metadata": {},
     "outputs": []
    },
    {
     "cell_type": "markdown",
     "metadata": {},
     "source": [
      "Enter a title for the plot below."
     ]
    },
    {
     "cell_type": "code",
     "collapsed": false,
     "input": [
      "l = Layout(title = 'MethylC-Seq Library Quantitation (qPCR)',\n",
      "  yaxis = YAxis(title = 'Concentration (pM)'),\n",
      "  xaxis = XAxis(title = 'Sample'),\n",
      "  showlegend = False)"
     ],
     "language": "python",
     "metadata": {},
     "outputs": []
    },
    {
     "cell_type": "code",
     "collapsed": false,
     "input": [
      "fig1 = dict(data = data_convert, layout = l)"
     ],
     "language": "python",
     "metadata": {},
     "outputs": []
    },
    {
     "cell_type": "code",
     "collapsed": false,
     "input": [
      "py.iplot(fig1)"
     ],
     "language": "python",
     "metadata": {},
     "outputs": []
    },
    {
     "cell_type": "heading",
     "level": 3,
     "metadata": {},
     "source": [
      "Adjust Concentration Based on Library Size"
     ]
    },
    {
     "cell_type": "markdown",
     "metadata": {},
     "source": [
      "To calulate the actual concentration of the libraries, use following equation:\n",
      "\n",
      "concentration from qPCR software x (average size of your standards library)/(average size of the library you are quantitating) x dilution factor = actual library concentration\n",
      "\n",
      "**Average size of kapa standards library = 452 bp  \n",
      "Average size of library sonicated to 200 bp = 275 bp**\n",
      "\n",
      "So, actual concentration = [mean]\\*1634 (picomolar)  \n",
      "or: [mean]\\*1.634 (nanomolar)"
     ]
    },
    {
     "cell_type": "code",
     "collapsed": false,
     "input": [
      "adjusted = mean[:6]*1.634 # nanomolar\n",
      "adjusted"
     ],
     "language": "python",
     "metadata": {},
     "outputs": []
    },
    {
     "cell_type": "markdown",
     "metadata": {},
     "source": [
      "Dilute all libraries to your chosen concentration.  \n",
      "\n",
      "**Final volume = (concentration x initial volume) / final concentration  **  \n",
      "**Volume to add = (concentration x (initial volume/final concentration)) - initial volume**\n",
      "\n",
      "Adjust following values for your library:"
     ]
    },
    {
     "cell_type": "code",
     "collapsed": false,
     "input": [
      "final_concentration = 20\n",
      "initial_volume = 12"
     ],
     "language": "python",
     "metadata": {},
     "outputs": []
    },
    {
     "cell_type": "heading",
     "level": 3,
     "metadata": {},
     "source": [
      "Dilute to target concentration"
     ]
    },
    {
     "cell_type": "markdown",
     "metadata": {},
     "source": [
      "Add the following volumes of library dilution buffer:"
     ]
    },
    {
     "cell_type": "code",
     "collapsed": false,
     "input": [
      "(adjusted*(initial_volume/final_concentration))-initial_volume"
     ],
     "language": "python",
     "metadata": {},
     "outputs": []
    },
    {
     "cell_type": "code",
     "collapsed": false,
     "input": [
      "total_volume = (adjusted*(initial_volume/final_concentration))"
     ],
     "language": "python",
     "metadata": {},
     "outputs": []
    },
    {
     "cell_type": "heading",
     "level": 2,
     "metadata": {},
     "source": [
      "Second-Round Quantitation"
     ]
    },
    {
     "cell_type": "markdown",
     "metadata": {},
     "source": [
      "Repeat qPCR with libraries diluted 1:1000, with previously-run library as relative standard.\n",
      "\n",
      "Enter your second qPCR filename in the first line below, and title for graph under layout2:"
     ]
    },
    {
     "cell_type": "code",
     "collapsed": false,
     "input": [
      "l2 = Layout(title = 'Second-round quantitation',\n",
      "  yaxis = YAxis(title = 'Concentration (pM)'),\n",
      "  xaxis = XAxis(title = 'Sample'),\n",
      "  showlegend = False)"
     ],
     "language": "python",
     "metadata": {},
     "outputs": []
    },
    {
     "cell_type": "code",
     "collapsed": false,
     "input": [
      "qPCR2 = pd.DataFrame.from_csv('2014.04.11_qpcr.txt', sep='\\t', header=1, index_col=0).groupby(['Name'], as_index=True).agg([np.mean, np.std]).drop(['Color', 'Cp', 'Standard'],1)['Concentration']\n",
      "mean2 = qPCR2.drop(['std'], 1)\n",
      "sem2  = qPCR2.drop(['mean'], 1)/np.sqrt(3)\n",
      "\n",
      "def df_to_iplot2(df):\n",
      "    x = df.index.values\n",
      "    lines={}\n",
      "    for key in df:\n",
      "        lines[key]={}\n",
      "        lines[key][\"x\"]=x\n",
      "        lines[key][\"y\"]=df[key].values\n",
      "        lines[key][\"name\"]=key\n",
      "        lines[key][\"type\"]='bar'\n",
      "        lines[key][\"error_y\"]={'type': 'data',\n",
      "    'array': sem2['std'],\n",
      "    'visible': True,\n",
      "    'color': 'rgb(67, 67, 67)'}\n",
      "    lines_plotly=[lines[key] for key in df]\n",
      "    return lines_plotly\n",
      "\n",
      "data_convert2 = Data(df_to_iplot2(mean2))\n",
      "\n",
      "fig2 = dict(data= data_convert2, layout = l2)\n",
      "py.iplot(fig2)"
     ],
     "language": "python",
     "metadata": {},
     "outputs": []
    },
    {
     "cell_type": "heading",
     "level": 3,
     "metadata": {},
     "source": [
      "Adjust for size of library"
     ]
    },
    {
     "cell_type": "code",
     "collapsed": false,
     "input": [
      "adjusted2 = mean2[:6]*1.634 # nanomolar\n",
      "adjusted2"
     ],
     "language": "python",
     "metadata": {},
     "outputs": []
    },
    {
     "cell_type": "heading",
     "level": 3,
     "metadata": {},
     "source": [
      "Adjust to exact concentration prior to starting sequencing run"
     ]
    },
    {
     "cell_type": "markdown",
     "metadata": {},
     "source": [
      "Volume library dilution buffer to add:"
     ]
    },
    {
     "cell_type": "code",
     "collapsed": false,
     "input": [
      "(adjusted2*(total_volume/final_concentration))-total_volume"
     ],
     "language": "python",
     "metadata": {},
     "outputs": []
    },
    {
     "cell_type": "code",
     "collapsed": false,
     "input": [
      "# Table of contents\n",
      "from IPython.core.display import Javascript\n",
      "def js_styling():\n",
      "    styles = open(\"./styles/custom.js\", \"r\").read()\n",
      "    return Javascript(styles)\n",
      "js_styling()"
     ],
     "language": "python",
     "metadata": {},
     "outputs": []
    },
    {
     "cell_type": "code",
     "collapsed": false,
     "input": [],
     "language": "python",
     "metadata": {},
     "outputs": []
    }
   ],
   "metadata": {}
  }
 ]
}