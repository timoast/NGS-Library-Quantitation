{
 "metadata": {
  "name": "",
  "signature": "sha256:8344dd6fca88ac54427f44193c8ad4fc74287b0a5cfcd7d2e250ca015618dfc1"
 },
 "nbformat": 3,
 "nbformat_minor": 0,
 "worksheets": [
  {
   "cells": [
    {
     "cell_type": "markdown",
     "metadata": {},
     "source": [
      "NGS Library Quantitation\n",
      "==========\n",
      "\n",
      "Dilute MethylC-Seq libraries 1:1000 and RNA-Seq libraries 1:10000. Quantitate using qPCR."
     ]
    },
    {
     "cell_type": "code",
     "collapsed": false,
     "input": [
      "import plotly\n",
      "import numpy as np\n",
      "import pandas as pd\n",
      "from __future__ import division"
     ],
     "language": "python",
     "metadata": {},
     "outputs": []
    },
    {
     "cell_type": "markdown",
     "metadata": {},
     "source": [
      "Enter plotly username and api key below. To make a plotly account, go to https://plot.ly/"
     ]
    },
    {
     "cell_type": "code",
     "collapsed": false,
     "input": [
      "py = plotly.plotly('username', 'api_key')"
     ],
     "language": "python",
     "metadata": {},
     "outputs": []
    },
    {
     "cell_type": "markdown",
     "metadata": {},
     "source": [
      "Function to convert pandas dataframe to plotly interface edited from http://nbviewer.ipython.org/gist/nipunreddevil/7734529"
     ]
    },
    {
     "cell_type": "code",
     "collapsed": false,
     "input": [
      "def df_to_iplot(df):\n",
      "    \n",
      "    x = df.index.values\n",
      "    lines={}\n",
      "    for key in df:\n",
      "        lines[key]={}\n",
      "        lines[key][\"x\"]=x\n",
      "        lines[key][\"y\"]=df[key].values\n",
      "        lines[key][\"name\"]=key\n",
      "        lines[key][\"type\"]='bar'\n",
      "        lines[key][\"error_y\"]={'type': 'data',\n",
      "    'array': std['std'],\n",
      "    'visible': True,\n",
      "    'color': 'rgb(67, 67, 67)'}\n",
      "        \n",
      "    lines_plotly=[lines[key] for key in df]\n",
      "    return lines_plotly"
     ],
     "language": "python",
     "metadata": {},
     "outputs": [],
     "prompt_number": 2
    },
    {
     "cell_type": "markdown",
     "metadata": {},
     "source": [
      "Import qPCR data from file. Enter file name below, with path to file if not in current directory.  \n",
      "**Note: you may want to delete some rows first if there are other people's samples in the table**"
     ]
    },
    {
     "cell_type": "code",
     "collapsed": false,
     "input": [
      "data = pd.DataFrame.from_csv('filename.txt', sep='\\t', header=1, index_col=0)"
     ],
     "language": "python",
     "metadata": {},
     "outputs": []
    },
    {
     "cell_type": "markdown",
     "metadata": {},
     "source": [
      "Print first five rows to check data imported correctly"
     ]
    },
    {
     "cell_type": "code",
     "collapsed": false,
     "input": [
      "data[:5]"
     ],
     "language": "python",
     "metadata": {},
     "outputs": []
    },
    {
     "cell_type": "markdown",
     "metadata": {},
     "source": [
      "As there are multiple rows with the same name (dilution replicates), group based on name and record mean and standard deviation for each sample."
     ]
    },
    {
     "cell_type": "code",
     "collapsed": false,
     "input": [
      "agg_data = data.groupby(['Name'], as_index=True).agg([np.mean, np.std])"
     ],
     "language": "python",
     "metadata": {},
     "outputs": []
    },
    {
     "cell_type": "code",
     "collapsed": false,
     "input": [
      "agg_data[:5]"
     ],
     "language": "python",
     "metadata": {},
     "outputs": []
    },
    {
     "cell_type": "markdown",
     "metadata": {},
     "source": [
      "Now drop columns that we are not interested in:"
     ]
    },
    {
     "cell_type": "code",
     "collapsed": false,
     "input": [
      "agg_data = agg_data.drop(['Color', 'Cp', 'Standard'],1)['Concentration']\n",
      "agg_data"
     ],
     "language": "python",
     "metadata": {},
     "outputs": []
    },
    {
     "cell_type": "markdown",
     "metadata": {},
     "source": [
      "Convert to format that can be plotted by plotly and separate mean and std"
     ]
    },
    {
     "cell_type": "code",
     "collapsed": false,
     "input": [
      "mean = agg_data.drop(['std'], 1)\n",
      "std  = agg_data.drop(['mean'], 1)"
     ],
     "language": "python",
     "metadata": {},
     "outputs": []
    },
    {
     "cell_type": "code",
     "collapsed": false,
     "input": [
      "data_convert = df_to_iplot(mean)"
     ],
     "language": "python",
     "metadata": {},
     "outputs": []
    },
    {
     "cell_type": "markdown",
     "metadata": {},
     "source": [
      "Enter a title for the plot below."
     ]
    },
    {
     "cell_type": "code",
     "collapsed": false,
     "input": [
      "layout = {\n",
      "  'title': 'MethylC-Seq Library Quantitation (qPCR)',\n",
      "  'yaxis': {'title': 'Concentration (pM)'},\n",
      "  'xaxis': {'title': 'Sample'},\n",
      "  'bardir': 'v'}"
     ],
     "language": "python",
     "metadata": {},
     "outputs": []
    },
    {
     "cell_type": "code",
     "collapsed": false,
     "input": [
      "py.iplot(data_convert, layout = layout)"
     ],
     "language": "python",
     "metadata": {},
     "outputs": []
    },
    {
     "cell_type": "markdown",
     "metadata": {},
     "source": [
      "Adjust Concentration Based on Library Size\n",
      "---------\n",
      "\n",
      "To calulate the actual concentration of the libraries, use following equation:\n",
      "\n",
      "concentration from qPCR software x (average size of your standards library)/(average size of the library you are quantitating) x dilution factor = actual library concentration\n",
      "\n",
      "**Average size of kapa standards library = 452 bp  \n",
      "Average size of library sonicated to 200 bp = 275 bp**\n",
      "\n",
      "So, actual concentration = [mean]\\*1634 (picomolar)  \n",
      "or: [mean]\\*1.634 (femtomolar)"
     ]
    },
    {
     "cell_type": "code",
     "collapsed": false,
     "input": [
      "adjusted = mean[:6]*1.634 # femtomolar\n",
      "adjusted"
     ],
     "language": "python",
     "metadata": {},
     "outputs": []
    },
    {
     "cell_type": "markdown",
     "metadata": {},
     "source": [
      "Dilute all libraries to your chosen concentration.  \n",
      "\n",
      "**Final volume = (concentration x initial volume) / final concentration  **  \n",
      "**Volume to add = (concentration x (initial volume/final concentration)) - initial volume**\n",
      "\n",
      "Adjust following values for your library:"
     ]
    },
    {
     "cell_type": "code",
     "collapsed": false,
     "input": [
      "final_concentration = 20\n",
      "initial_volume = 12"
     ],
     "language": "python",
     "metadata": {},
     "outputs": []
    },
    {
     "cell_type": "markdown",
     "metadata": {},
     "source": [
      "Add the following volumes of library dilution buffer:"
     ]
    },
    {
     "cell_type": "code",
     "collapsed": false,
     "input": [
      "(adjusted*(initial_volume/final_concentration))-initial_volume"
     ],
     "language": "python",
     "metadata": {},
     "outputs": []
    },
    {
     "cell_type": "markdown",
     "metadata": {},
     "source": [
      "Second-Round Quantitation\n",
      "-------\n",
      "Repeat qPCR with libraries diluted 1:1000, with previously-run library as relative standard.\n",
      "\n",
      "Enter your second qPCR filename in the first line below, and title for graph under layout2:"
     ]
    },
    {
     "cell_type": "code",
     "collapsed": false,
     "input": [
      "qPCR2 = pd.DataFrame.from_csv('filename.txt', sep='\\t', header=1, index_col=0).groupby(['Name'], as_index=True).agg([np.mean, np.std]).drop(['Color', 'Cp', 'Standard'],1)['Concentration']\n",
      "mean2 = qPCR2.drop(['std'], 1)\n",
      "std2  = qPCR2.drop(['mean'], 1)\n",
      "\n",
      "def df_to_iplot2(df):\n",
      "    x = df.index.values\n",
      "    lines={}\n",
      "    for key in df:\n",
      "        lines[key]={}\n",
      "        lines[key][\"x\"]=x\n",
      "        lines[key][\"y\"]=df[key].values\n",
      "        lines[key][\"name\"]=key\n",
      "        lines[key][\"type\"]='bar'\n",
      "        lines[key][\"error_y\"]={'type': 'data',\n",
      "    'array': std2['std'],\n",
      "    'visible': True,\n",
      "    'color': 'rgb(67, 67, 67)'}\n",
      "    lines_plotly=[lines[key] for key in df]\n",
      "    return lines_plotly\n",
      "\n",
      "data_convert2 = df_to_iplot2(mean2)\n",
      "\n",
      "layout2 = {\n",
      "  'title': 'Title',\n",
      "  'yaxis': {'title': 'Concentration (pM)'},\n",
      "  'xaxis': {'title': 'Sample'},\n",
      "  'bardir': 'v'}\n",
      "\n",
      "py.iplot(data_convert2, layout = layout2)"
     ],
     "language": "python",
     "metadata": {},
     "outputs": []
    },
    {
     "cell_type": "markdown",
     "metadata": {},
     "source": [
      "Again, adjust for size of library:"
     ]
    },
    {
     "cell_type": "code",
     "collapsed": false,
     "input": [
      "mean2[:6]*1.634 # femtomolar"
     ],
     "language": "python",
     "metadata": {},
     "outputs": []
    }
   ],
   "metadata": {}
  }
 ]
}