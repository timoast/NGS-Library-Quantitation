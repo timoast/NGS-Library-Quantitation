{
 "metadata": {
  "name": "",
  "signature": "sha256:def289b426dc01262f6f5b94d5cb793624854ddf2fca9d3ec841b4122f19be31"
 },
 "nbformat": 3,
 "nbformat_minor": 0,
 "worksheets": [
  {
   "cells": [
    {
     "cell_type": "heading",
     "level": 1,
     "metadata": {},
     "source": [
      "NGS Library Quantitation"
     ]
    },
    {
     "cell_type": "markdown",
     "metadata": {},
     "source": [
      "Dilute MethylC-Seq libraries 1:1000 and RNA-Seq libraries 1:10000. Quantitate using qPCR."
     ]
    },
    {
     "cell_type": "code",
     "collapsed": false,
     "input": [
      "import plotly\n",
      "import plotly.plotly as py\n",
      "from plotly.graph_objs import *\n",
      "import plotly.tools as tls\n",
      "import numpy as np\n",
      "import pandas as pd\n",
      "from __future__ import division\n",
      "\n",
      "plotly.__version__, np.__version__, pd.__version__"
     ],
     "language": "python",
     "metadata": {},
     "outputs": [
      {
       "metadata": {},
       "output_type": "pyout",
       "prompt_number": 1,
       "text": [
        "('1.0.14', '1.8.1', '0.13.1')"
       ]
      }
     ],
     "prompt_number": 1
    },
    {
     "cell_type": "markdown",
     "metadata": {},
     "source": [
      "Sign into plotly using credentials file. To make a plotly account, go to https://plot.ly/. To make credentials file for the first time, run:\n",
      "\n",
      "```python\n",
      "import plotly.tools as tls\n",
      "tls.set_credentials_file(username=\"your_username\", api_key=\"your_api_key\")\n",
      "```"
     ]
    },
    {
     "cell_type": "code",
     "collapsed": false,
     "input": [
      "my_creds = tls.get_credentials_file()\n",
      "py.sign_in(my_creds['username'], my_creds['api_key'])"
     ],
     "language": "python",
     "metadata": {},
     "outputs": [],
     "prompt_number": 2
    },
    {
     "cell_type": "markdown",
     "metadata": {},
     "source": [
      "Function to convert pandas dataframe to plotly interface edited from http://nbviewer.ipython.org/gist/nipunreddevil/7734529"
     ]
    },
    {
     "cell_type": "code",
     "collapsed": false,
     "input": [
      "def df_to_iplot(df):\n",
      "    \n",
      "    x = df.index.values\n",
      "    lines={}\n",
      "    for key in df:\n",
      "        lines[key]={}\n",
      "        lines[key][\"x\"]=x\n",
      "        lines[key][\"y\"]=df[key].values\n",
      "        lines[key][\"name\"]=key\n",
      "        lines[key][\"type\"]='bar'\n",
      "        lines[key][\"error_y\"]={'type': 'data',\n",
      "    'array': sem['std'],\n",
      "    'visible': True,\n",
      "    'color': 'rgb(67, 67, 67)'}\n",
      "        \n",
      "    lines_plotly=[lines[key] for key in df]\n",
      "    return lines_plotly"
     ],
     "language": "python",
     "metadata": {},
     "outputs": [],
     "prompt_number": 3
    },
    {
     "cell_type": "markdown",
     "metadata": {},
     "source": [
      "Import qPCR data from file. Enter file name below, with path to file if not in current directory.  \n",
      "**Note: you may want to delete some rows first if there are other people's samples in the table**"
     ]
    },
    {
     "cell_type": "code",
     "collapsed": false,
     "input": [
      "data = pd.DataFrame.from_csv('2014.04.10_qpcr.txt', sep='\\t', header=1, index_col=0)"
     ],
     "language": "python",
     "metadata": {},
     "outputs": [],
     "prompt_number": 5
    },
    {
     "cell_type": "markdown",
     "metadata": {},
     "source": [
      "Print first five rows to check data imported correctly"
     ]
    },
    {
     "cell_type": "code",
     "collapsed": false,
     "input": [
      "data[:5]"
     ],
     "language": "python",
     "metadata": {},
     "outputs": [
      {
       "html": [
        "<div style=\"max-height:1000px;max-width:1500px;overflow:auto;\">\n",
        "<table border=\"1\" class=\"dataframe\">\n",
        "  <thead>\n",
        "    <tr style=\"text-align: right;\">\n",
        "      <th></th>\n",
        "      <th>Color</th>\n",
        "      <th>Pos</th>\n",
        "      <th>Name</th>\n",
        "      <th>Cp</th>\n",
        "      <th>Concentration</th>\n",
        "      <th>Standard</th>\n",
        "      <th>Status</th>\n",
        "    </tr>\n",
        "    <tr>\n",
        "      <th>Include</th>\n",
        "      <th></th>\n",
        "      <th></th>\n",
        "      <th></th>\n",
        "      <th></th>\n",
        "      <th></th>\n",
        "      <th></th>\n",
        "      <th></th>\n",
        "    </tr>\n",
        "  </thead>\n",
        "  <tbody>\n",
        "    <tr>\n",
        "      <th>True</th>\n",
        "      <td> 128</td>\n",
        "      <td> A1</td>\n",
        "      <td>  kapa2</td>\n",
        "      <td> 11.66</td>\n",
        "      <td>  2.09</td>\n",
        "      <td>  2</td>\n",
        "      <td>                                              NaN</td>\n",
        "    </tr>\n",
        "    <tr>\n",
        "      <th>True</th>\n",
        "      <td> 128</td>\n",
        "      <td> A2</td>\n",
        "      <td>  kapa5</td>\n",
        "      <td> 10.56</td>\n",
        "      <td>  4.18</td>\n",
        "      <td>  5</td>\n",
        "      <td>                                              NaN</td>\n",
        "    </tr>\n",
        "    <tr>\n",
        "      <th>True</th>\n",
        "      <td> 128</td>\n",
        "      <td> A3</td>\n",
        "      <td> kapa10</td>\n",
        "      <td>  9.60</td>\n",
        "      <td>  7.71</td>\n",
        "      <td> 10</td>\n",
        "      <td>                                              NaN</td>\n",
        "    </tr>\n",
        "    <tr>\n",
        "      <th>True</th>\n",
        "      <td> 128</td>\n",
        "      <td> A4</td>\n",
        "      <td> kapa20</td>\n",
        "      <td>  8.21</td>\n",
        "      <td> 18.60</td>\n",
        "      <td> 20</td>\n",
        "      <td>                                              NaN</td>\n",
        "    </tr>\n",
        "    <tr>\n",
        "      <th>True</th>\n",
        "      <td> 255</td>\n",
        "      <td> A5</td>\n",
        "      <td>     1A</td>\n",
        "      <td>  5.98</td>\n",
        "      <td> 76.80</td>\n",
        "      <td>  0</td>\n",
        "      <td> E - Extrapolated concentration in standard curve</td>\n",
        "    </tr>\n",
        "  </tbody>\n",
        "</table>\n",
        "<p>5 rows \u00d7 7 columns</p>\n",
        "</div>"
       ],
       "metadata": {},
       "output_type": "pyout",
       "prompt_number": 6,
       "text": [
        "         Color Pos    Name     Cp  Concentration  Standard  \\\n",
        "Include                                                      \n",
        "True       128  A1   kapa2  11.66           2.09         2   \n",
        "True       128  A2   kapa5  10.56           4.18         5   \n",
        "True       128  A3  kapa10   9.60           7.71        10   \n",
        "True       128  A4  kapa20   8.21          18.60        20   \n",
        "True       255  A5      1A   5.98          76.80         0   \n",
        "\n",
        "                                                   Status  \n",
        "Include                                                    \n",
        "True                                                  NaN  \n",
        "True                                                  NaN  \n",
        "True                                                  NaN  \n",
        "True                                                  NaN  \n",
        "True     E - Extrapolated concentration in standard curve  \n",
        "\n",
        "[5 rows x 7 columns]"
       ]
      }
     ],
     "prompt_number": 6
    },
    {
     "cell_type": "markdown",
     "metadata": {},
     "source": [
      "As there are multiple rows with the same name (dilution replicates), group based on name and record mean and standard deviation for each sample."
     ]
    },
    {
     "cell_type": "code",
     "collapsed": false,
     "input": [
      "agg_data = data.groupby(['Name'], as_index=True).agg([np.mean, np.std])"
     ],
     "language": "python",
     "metadata": {},
     "outputs": [],
     "prompt_number": 7
    },
    {
     "cell_type": "code",
     "collapsed": false,
     "input": [
      "agg_data[:5]"
     ],
     "language": "python",
     "metadata": {},
     "outputs": [
      {
       "html": [
        "<div style=\"max-height:1000px;max-width:1500px;overflow:auto;\">\n",
        "<table border=\"1\" class=\"dataframe\">\n",
        "  <thead>\n",
        "    <tr>\n",
        "      <th></th>\n",
        "      <th colspan=\"2\" halign=\"left\">Color</th>\n",
        "      <th colspan=\"2\" halign=\"left\">Cp</th>\n",
        "      <th colspan=\"2\" halign=\"left\">Concentration</th>\n",
        "      <th colspan=\"2\" halign=\"left\">Standard</th>\n",
        "    </tr>\n",
        "    <tr>\n",
        "      <th></th>\n",
        "      <th>mean</th>\n",
        "      <th>std</th>\n",
        "      <th>mean</th>\n",
        "      <th>std</th>\n",
        "      <th>mean</th>\n",
        "      <th>std</th>\n",
        "      <th>mean</th>\n",
        "      <th>std</th>\n",
        "    </tr>\n",
        "    <tr>\n",
        "      <th>Name</th>\n",
        "      <th></th>\n",
        "      <th></th>\n",
        "      <th></th>\n",
        "      <th></th>\n",
        "      <th></th>\n",
        "      <th></th>\n",
        "      <th></th>\n",
        "      <th></th>\n",
        "    </tr>\n",
        "  </thead>\n",
        "  <tbody>\n",
        "    <tr>\n",
        "      <th>1A</th>\n",
        "      <td> 255</td>\n",
        "      <td> 0</td>\n",
        "      <td> 6.016667</td>\n",
        "      <td> 0.081445</td>\n",
        "      <td>  74.900000</td>\n",
        "      <td>  3.912800</td>\n",
        "      <td> 0</td>\n",
        "      <td> 0</td>\n",
        "    </tr>\n",
        "    <tr>\n",
        "      <th>1B</th>\n",
        "      <td> 255</td>\n",
        "      <td> 0</td>\n",
        "      <td> 5.360000</td>\n",
        "      <td> 0.020000</td>\n",
        "      <td> 113.333333</td>\n",
        "      <td>  1.527525</td>\n",
        "      <td> 0</td>\n",
        "      <td> 0</td>\n",
        "    </tr>\n",
        "    <tr>\n",
        "      <th>1C</th>\n",
        "      <td> 255</td>\n",
        "      <td> 0</td>\n",
        "      <td> 5.973333</td>\n",
        "      <td> 0.117189</td>\n",
        "      <td>  77.133333</td>\n",
        "      <td>  5.877358</td>\n",
        "      <td> 0</td>\n",
        "      <td> 0</td>\n",
        "    </tr>\n",
        "    <tr>\n",
        "      <th>2A</th>\n",
        "      <td> 255</td>\n",
        "      <td> 0</td>\n",
        "      <td> 5.676667</td>\n",
        "      <td> 0.178979</td>\n",
        "      <td>  93.266667</td>\n",
        "      <td> 10.594967</td>\n",
        "      <td> 0</td>\n",
        "      <td> 0</td>\n",
        "    </tr>\n",
        "    <tr>\n",
        "      <th>2B</th>\n",
        "      <td> 255</td>\n",
        "      <td> 0</td>\n",
        "      <td> 6.773333</td>\n",
        "      <td> 0.125033</td>\n",
        "      <td>  46.400000</td>\n",
        "      <td>  3.800000</td>\n",
        "      <td> 0</td>\n",
        "      <td> 0</td>\n",
        "    </tr>\n",
        "  </tbody>\n",
        "</table>\n",
        "<p>5 rows \u00d7 8 columns</p>\n",
        "</div>"
       ],
       "metadata": {},
       "output_type": "pyout",
       "prompt_number": 8,
       "text": [
        "      Color             Cp            Concentration             Standard     \n",
        "       mean  std      mean       std           mean        std      mean  std\n",
        "Name                                                                         \n",
        "1A      255    0  6.016667  0.081445      74.900000   3.912800         0    0\n",
        "1B      255    0  5.360000  0.020000     113.333333   1.527525         0    0\n",
        "1C      255    0  5.973333  0.117189      77.133333   5.877358         0    0\n",
        "2A      255    0  5.676667  0.178979      93.266667  10.594967         0    0\n",
        "2B      255    0  6.773333  0.125033      46.400000   3.800000         0    0\n",
        "\n",
        "[5 rows x 8 columns]"
       ]
      }
     ],
     "prompt_number": 8
    },
    {
     "cell_type": "markdown",
     "metadata": {},
     "source": [
      "Now drop columns that we are not interested in:"
     ]
    },
    {
     "cell_type": "code",
     "collapsed": false,
     "input": [
      "agg_data = agg_data.drop(['Color', 'Cp', 'Standard'],1)['Concentration']\n",
      "agg_data"
     ],
     "language": "python",
     "metadata": {},
     "outputs": [
      {
       "html": [
        "<div style=\"max-height:1000px;max-width:1500px;overflow:auto;\">\n",
        "<table border=\"1\" class=\"dataframe\">\n",
        "  <thead>\n",
        "    <tr style=\"text-align: right;\">\n",
        "      <th></th>\n",
        "      <th>mean</th>\n",
        "      <th>std</th>\n",
        "    </tr>\n",
        "    <tr>\n",
        "      <th>Name</th>\n",
        "      <th></th>\n",
        "      <th></th>\n",
        "    </tr>\n",
        "  </thead>\n",
        "  <tbody>\n",
        "    <tr>\n",
        "      <th>1A</th>\n",
        "      <td>  74.900000</td>\n",
        "      <td>  3.912800</td>\n",
        "    </tr>\n",
        "    <tr>\n",
        "      <th>1B</th>\n",
        "      <td> 113.333333</td>\n",
        "      <td>  1.527525</td>\n",
        "    </tr>\n",
        "    <tr>\n",
        "      <th>1C</th>\n",
        "      <td>  77.133333</td>\n",
        "      <td>  5.877358</td>\n",
        "    </tr>\n",
        "    <tr>\n",
        "      <th>2A</th>\n",
        "      <td>  93.266667</td>\n",
        "      <td> 10.594967</td>\n",
        "    </tr>\n",
        "    <tr>\n",
        "      <th>2B</th>\n",
        "      <td>  46.400000</td>\n",
        "      <td>  3.800000</td>\n",
        "    </tr>\n",
        "    <tr>\n",
        "      <th>3</th>\n",
        "      <td>  76.700000</td>\n",
        "      <td>  3.315117</td>\n",
        "    </tr>\n",
        "    <tr>\n",
        "      <th>kapa10</th>\n",
        "      <td>   9.423333</td>\n",
        "      <td>  1.542087</td>\n",
        "    </tr>\n",
        "    <tr>\n",
        "      <th>kapa2</th>\n",
        "      <td>   2.123333</td>\n",
        "      <td>  0.162583</td>\n",
        "    </tr>\n",
        "    <tr>\n",
        "      <th>kapa20</th>\n",
        "      <td>  20.166667</td>\n",
        "      <td>  1.379613</td>\n",
        "    </tr>\n",
        "    <tr>\n",
        "      <th>kapa5</th>\n",
        "      <td>   4.716667</td>\n",
        "      <td>  0.550485</td>\n",
        "    </tr>\n",
        "  </tbody>\n",
        "</table>\n",
        "<p>10 rows \u00d7 2 columns</p>\n",
        "</div>"
       ],
       "metadata": {},
       "output_type": "pyout",
       "prompt_number": 9,
       "text": [
        "              mean        std\n",
        "Name                         \n",
        "1A       74.900000   3.912800\n",
        "1B      113.333333   1.527525\n",
        "1C       77.133333   5.877358\n",
        "2A       93.266667  10.594967\n",
        "2B       46.400000   3.800000\n",
        "3        76.700000   3.315117\n",
        "kapa10    9.423333   1.542087\n",
        "kapa2     2.123333   0.162583\n",
        "kapa20   20.166667   1.379613\n",
        "kapa5     4.716667   0.550485\n",
        "\n",
        "[10 rows x 2 columns]"
       ]
      }
     ],
     "prompt_number": 9
    },
    {
     "cell_type": "markdown",
     "metadata": {},
     "source": [
      "Convert to format that can be plotted by plotly and separate mean and std"
     ]
    },
    {
     "cell_type": "code",
     "collapsed": false,
     "input": [
      "mean = agg_data.drop(['std'], 1)\n",
      "sem  = agg_data.drop(['mean'], 1)/np.sqrt(3)"
     ],
     "language": "python",
     "metadata": {},
     "outputs": [],
     "prompt_number": 10
    },
    {
     "cell_type": "code",
     "collapsed": false,
     "input": [
      "data_convert = df_to_iplot(mean)\n",
      "data_convert = Data(data_convert)"
     ],
     "language": "python",
     "metadata": {},
     "outputs": [],
     "prompt_number": 15
    },
    {
     "cell_type": "markdown",
     "metadata": {},
     "source": [
      "Enter a title for the plot below."
     ]
    },
    {
     "cell_type": "code",
     "collapsed": false,
     "input": [
      "layout = Layout(title = 'MethylC-Seq Library Quantitation (qPCR)',\n",
      "  yaxis = YAxis(title = 'Concentration (pM)'),\n",
      "  xaxis = XAxis(title = 'Sample'),\n",
      "  showlegend = False)"
     ],
     "language": "python",
     "metadata": {},
     "outputs": [],
     "prompt_number": 16
    },
    {
     "cell_type": "code",
     "collapsed": false,
     "input": [
      "fig1 = dict(data = data_convert, layout = layout)"
     ],
     "language": "python",
     "metadata": {},
     "outputs": [],
     "prompt_number": 18
    },
    {
     "cell_type": "code",
     "collapsed": false,
     "input": [
      "py.iplot(fig1)"
     ],
     "language": "python",
     "metadata": {},
     "outputs": [
      {
       "html": [
        "<iframe id=\"igraph\" scrolling=\"no\" style=\"border:none;\"seamless=\"seamless\" src=\"https://plot.ly/~timless/582\" height=\"525\" width=\"100%\"></iframe>"
       ],
       "metadata": {},
       "output_type": "display_data",
       "text": [
        "<IPython.core.display.HTML at 0x108cea090>"
       ]
      }
     ],
     "prompt_number": 19
    },
    {
     "cell_type": "heading",
     "level": 2,
     "metadata": {},
     "source": [
      "Adjust Concentration Based on Library Size"
     ]
    },
    {
     "cell_type": "markdown",
     "metadata": {},
     "source": [
      "To calulate the actual concentration of the libraries, use following equation:\n",
      "\n",
      "concentration from qPCR software x (average size of your standards library)/(average size of the library you are quantitating) x dilution factor = actual library concentration\n",
      "\n",
      "**Average size of kapa standards library = 452 bp  \n",
      "Average size of library sonicated to 200 bp = 275 bp**\n",
      "\n",
      "So, actual concentration = [mean]\\*1634 (picomolar)  \n",
      "or: [mean]\\*1.634 (nanomolar)"
     ]
    },
    {
     "cell_type": "code",
     "collapsed": false,
     "input": [
      "adjusted = mean[:6]*1.634 # nanomolar\n",
      "adjusted"
     ],
     "language": "python",
     "metadata": {},
     "outputs": [
      {
       "html": [
        "<div style=\"max-height:1000px;max-width:1500px;overflow:auto;\">\n",
        "<table border=\"1\" class=\"dataframe\">\n",
        "  <thead>\n",
        "    <tr style=\"text-align: right;\">\n",
        "      <th></th>\n",
        "      <th>mean</th>\n",
        "    </tr>\n",
        "    <tr>\n",
        "      <th>Name</th>\n",
        "      <th></th>\n",
        "    </tr>\n",
        "  </thead>\n",
        "  <tbody>\n",
        "    <tr>\n",
        "      <th>1A</th>\n",
        "      <td> 122.386600</td>\n",
        "    </tr>\n",
        "    <tr>\n",
        "      <th>1B</th>\n",
        "      <td> 185.186667</td>\n",
        "    </tr>\n",
        "    <tr>\n",
        "      <th>1C</th>\n",
        "      <td> 126.035867</td>\n",
        "    </tr>\n",
        "    <tr>\n",
        "      <th>2A</th>\n",
        "      <td> 152.397733</td>\n",
        "    </tr>\n",
        "    <tr>\n",
        "      <th>2B</th>\n",
        "      <td>  75.817600</td>\n",
        "    </tr>\n",
        "    <tr>\n",
        "      <th>3</th>\n",
        "      <td> 125.327800</td>\n",
        "    </tr>\n",
        "  </tbody>\n",
        "</table>\n",
        "<p>6 rows \u00d7 1 columns</p>\n",
        "</div>"
       ],
       "metadata": {},
       "output_type": "pyout",
       "prompt_number": 20,
       "text": [
        "            mean\n",
        "Name            \n",
        "1A    122.386600\n",
        "1B    185.186667\n",
        "1C    126.035867\n",
        "2A    152.397733\n",
        "2B     75.817600\n",
        "3     125.327800\n",
        "\n",
        "[6 rows x 1 columns]"
       ]
      }
     ],
     "prompt_number": 20
    },
    {
     "cell_type": "markdown",
     "metadata": {},
     "source": [
      "Dilute all libraries to your chosen concentration.  \n",
      "\n",
      "**Final volume = (concentration x initial volume) / final concentration  **  \n",
      "**Volume to add = (concentration x (initial volume/final concentration)) - initial volume**\n",
      "\n",
      "Adjust following values for your library:"
     ]
    },
    {
     "cell_type": "code",
     "collapsed": false,
     "input": [
      "final_concentration = 20\n",
      "initial_volume = 12"
     ],
     "language": "python",
     "metadata": {},
     "outputs": [],
     "prompt_number": 21
    },
    {
     "cell_type": "heading",
     "level": 3,
     "metadata": {},
     "source": [
      "Add the following volumes of library dilution buffer:"
     ]
    },
    {
     "cell_type": "code",
     "collapsed": false,
     "input": [
      "(adjusted*(initial_volume/final_concentration))-initial_volume"
     ],
     "language": "python",
     "metadata": {},
     "outputs": [
      {
       "html": [
        "<div style=\"max-height:1000px;max-width:1500px;overflow:auto;\">\n",
        "<table border=\"1\" class=\"dataframe\">\n",
        "  <thead>\n",
        "    <tr style=\"text-align: right;\">\n",
        "      <th></th>\n",
        "      <th>mean</th>\n",
        "    </tr>\n",
        "    <tr>\n",
        "      <th>Name</th>\n",
        "      <th></th>\n",
        "    </tr>\n",
        "  </thead>\n",
        "  <tbody>\n",
        "    <tr>\n",
        "      <th>1A</th>\n",
        "      <td> 61.43196</td>\n",
        "    </tr>\n",
        "    <tr>\n",
        "      <th>1B</th>\n",
        "      <td> 99.11200</td>\n",
        "    </tr>\n",
        "    <tr>\n",
        "      <th>1C</th>\n",
        "      <td> 63.62152</td>\n",
        "    </tr>\n",
        "    <tr>\n",
        "      <th>2A</th>\n",
        "      <td> 79.43864</td>\n",
        "    </tr>\n",
        "    <tr>\n",
        "      <th>2B</th>\n",
        "      <td> 33.49056</td>\n",
        "    </tr>\n",
        "    <tr>\n",
        "      <th>3</th>\n",
        "      <td> 63.19668</td>\n",
        "    </tr>\n",
        "  </tbody>\n",
        "</table>\n",
        "<p>6 rows \u00d7 1 columns</p>\n",
        "</div>"
       ],
       "metadata": {},
       "output_type": "pyout",
       "prompt_number": 22,
       "text": [
        "          mean\n",
        "Name          \n",
        "1A    61.43196\n",
        "1B    99.11200\n",
        "1C    63.62152\n",
        "2A    79.43864\n",
        "2B    33.49056\n",
        "3     63.19668\n",
        "\n",
        "[6 rows x 1 columns]"
       ]
      }
     ],
     "prompt_number": 22
    },
    {
     "cell_type": "code",
     "collapsed": false,
     "input": [
      "total_volume = (adjusted*(initial_volume/final_concentration))"
     ],
     "language": "python",
     "metadata": {},
     "outputs": [],
     "prompt_number": 23
    },
    {
     "cell_type": "heading",
     "level": 2,
     "metadata": {},
     "source": [
      "Second-Round Quantitation"
     ]
    },
    {
     "cell_type": "markdown",
     "metadata": {},
     "source": [
      "Repeat qPCR with libraries diluted 1:1000, with previously-run library as relative standard.\n",
      "\n",
      "Enter your second qPCR filename in the first line below, and title for graph under layout2:"
     ]
    },
    {
     "cell_type": "code",
     "collapsed": false,
     "input": [
      "qPCR2 = pd.DataFrame.from_csv('2014.04.11_qpcr.txt', sep='\\t', header=1, index_col=0).groupby(['Name'], as_index=True).agg([np.mean, np.std]).drop(['Color', 'Cp', 'Standard'],1)['Concentration']\n",
      "mean2 = qPCR2.drop(['std'], 1)\n",
      "sem2  = qPCR2.drop(['mean'], 1)/np.sqrt(3)\n",
      "\n",
      "def df_to_iplot2(df):\n",
      "    x = df.index.values\n",
      "    lines={}\n",
      "    for key in df:\n",
      "        lines[key]={}\n",
      "        lines[key][\"x\"]=x\n",
      "        lines[key][\"y\"]=df[key].values\n",
      "        lines[key][\"name\"]=key\n",
      "        lines[key][\"type\"]='bar'\n",
      "        lines[key][\"error_y\"]={'type': 'data',\n",
      "    'array': sem2['std'],\n",
      "    'visible': True,\n",
      "    'color': 'rgb(67, 67, 67)'}\n",
      "    lines_plotly=[lines[key] for key in df]\n",
      "    return lines_plotly\n",
      "\n",
      "data_convert2 = Data(df_to_iplot2(mean2))\n",
      "\n",
      "layout2 = Layout(title= 'Second round library quantitation',\n",
      "                 yaxis=YAxis(title='Concentration (pM)'),\n",
      "                 xaxis=XAxis(title= 'Sample'),\n",
      "                 showlegend= False)\n",
      "\n",
      "fig2 = dict(data= data_convert2, layout = layout2)\n",
      "py.iplot(fig2)"
     ],
     "language": "python",
     "metadata": {},
     "outputs": [
      {
       "html": [
        "<iframe id=\"igraph\" scrolling=\"no\" style=\"border:none;\"seamless=\"seamless\" src=\"https://plot.ly/~timless/584\" height=\"525\" width=\"100%\"></iframe>"
       ],
       "metadata": {},
       "output_type": "display_data",
       "text": [
        "<IPython.core.display.HTML at 0x108d259d0>"
       ]
      }
     ],
     "prompt_number": 25
    },
    {
     "cell_type": "heading",
     "level": 3,
     "metadata": {},
     "source": [
      "Again, adjust for size of library:"
     ]
    },
    {
     "cell_type": "code",
     "collapsed": false,
     "input": [
      "adjusted2 = mean2[:6]*1.634 # nanomolar\n",
      "adjusted2"
     ],
     "language": "python",
     "metadata": {},
     "outputs": [
      {
       "html": [
        "<div style=\"max-height:1000px;max-width:1500px;overflow:auto;\">\n",
        "<table border=\"1\" class=\"dataframe\">\n",
        "  <thead>\n",
        "    <tr style=\"text-align: right;\">\n",
        "      <th></th>\n",
        "      <th>mean</th>\n",
        "    </tr>\n",
        "    <tr>\n",
        "      <th>Name</th>\n",
        "      <th></th>\n",
        "    </tr>\n",
        "  </thead>\n",
        "  <tbody>\n",
        "    <tr>\n",
        "      <th>1A</th>\n",
        "      <td> 21.133067</td>\n",
        "    </tr>\n",
        "    <tr>\n",
        "      <th>1B</th>\n",
        "      <td> 22.549200</td>\n",
        "    </tr>\n",
        "    <tr>\n",
        "      <th>1C</th>\n",
        "      <td> 22.331333</td>\n",
        "    </tr>\n",
        "    <tr>\n",
        "      <th>2A</th>\n",
        "      <td> 21.350933</td>\n",
        "    </tr>\n",
        "    <tr>\n",
        "      <th>2B</th>\n",
        "      <td> 17.908640</td>\n",
        "    </tr>\n",
        "    <tr>\n",
        "      <th>3</th>\n",
        "      <td> 23.856400</td>\n",
        "    </tr>\n",
        "  </tbody>\n",
        "</table>\n",
        "<p>6 rows \u00d7 1 columns</p>\n",
        "</div>"
       ],
       "metadata": {},
       "output_type": "pyout",
       "prompt_number": 26,
       "text": [
        "           mean\n",
        "Name           \n",
        "1A    21.133067\n",
        "1B    22.549200\n",
        "1C    22.331333\n",
        "2A    21.350933\n",
        "2B    17.908640\n",
        "3     23.856400\n",
        "\n",
        "[6 rows x 1 columns]"
       ]
      }
     ],
     "prompt_number": 26
    },
    {
     "cell_type": "markdown",
     "metadata": {},
     "source": [
      "Adjust to exact concentration prior to starting sequencing run.  \n",
      "Volume library dilution buffer to add:"
     ]
    },
    {
     "cell_type": "code",
     "collapsed": false,
     "input": [
      "(adjusted2*(total_volume/final_concentration))-total_volume"
     ],
     "language": "python",
     "metadata": {},
     "outputs": [
      {
       "html": [
        "<div style=\"max-height:1000px;max-width:1500px;overflow:auto;\">\n",
        "<table border=\"1\" class=\"dataframe\">\n",
        "  <thead>\n",
        "    <tr style=\"text-align: right;\">\n",
        "      <th></th>\n",
        "      <th>mean</th>\n",
        "    </tr>\n",
        "    <tr>\n",
        "      <th>Name</th>\n",
        "      <th></th>\n",
        "    </tr>\n",
        "  </thead>\n",
        "  <tbody>\n",
        "    <tr>\n",
        "      <th>1A</th>\n",
        "      <td>  4.160165</td>\n",
        "    </tr>\n",
        "    <tr>\n",
        "      <th>1B</th>\n",
        "      <td> 14.162336</td>\n",
        "    </tr>\n",
        "    <tr>\n",
        "      <th>1C</th>\n",
        "      <td>  8.814949</td>\n",
        "    </tr>\n",
        "    <tr>\n",
        "      <th>2A</th>\n",
        "      <td>  6.176375</td>\n",
        "    </tr>\n",
        "    <tr>\n",
        "      <th>2B</th>\n",
        "      <td> -4.756857</td>\n",
        "    </tr>\n",
        "    <tr>\n",
        "      <th>3</th>\n",
        "      <td> 14.499424</td>\n",
        "    </tr>\n",
        "  </tbody>\n",
        "</table>\n",
        "<p>6 rows \u00d7 1 columns</p>\n",
        "</div>"
       ],
       "metadata": {},
       "output_type": "pyout",
       "prompt_number": 27,
       "text": [
        "           mean\n",
        "Name           \n",
        "1A     4.160165\n",
        "1B    14.162336\n",
        "1C     8.814949\n",
        "2A     6.176375\n",
        "2B    -4.756857\n",
        "3     14.499424\n",
        "\n",
        "[6 rows x 1 columns]"
       ]
      }
     ],
     "prompt_number": 27
    },
    {
     "cell_type": "code",
     "collapsed": false,
     "input": [
      "# Table of contents\n",
      "from IPython.core.display import Javascript\n",
      "def js_styling():\n",
      "    styles = open(\"../styles/custom.js\", \"r\").read()\n",
      "    return Javascript(styles)\n",
      "js_styling()"
     ],
     "language": "python",
     "metadata": {},
     "outputs": [
      {
       "ename": "IOError",
       "evalue": "[Errno 2] No such file or directory: '../styles/custom.js'",
       "output_type": "pyerr",
       "traceback": [
        "\u001b[0;31m---------------------------------------------------------------------------\u001b[0m\n\u001b[0;31mIOError\u001b[0m                                   Traceback (most recent call last)",
        "\u001b[0;32m<ipython-input-2-01f14bc44be5>\u001b[0m in \u001b[0;36m<module>\u001b[0;34m()\u001b[0m\n\u001b[1;32m      4\u001b[0m     \u001b[0mstyles\u001b[0m \u001b[0;34m=\u001b[0m \u001b[0mopen\u001b[0m\u001b[0;34m(\u001b[0m\u001b[0;34m\"../styles/custom.js\"\u001b[0m\u001b[0;34m,\u001b[0m \u001b[0;34m\"r\"\u001b[0m\u001b[0;34m)\u001b[0m\u001b[0;34m.\u001b[0m\u001b[0mread\u001b[0m\u001b[0;34m(\u001b[0m\u001b[0;34m)\u001b[0m\u001b[0;34m\u001b[0m\u001b[0m\n\u001b[1;32m      5\u001b[0m     \u001b[0;32mreturn\u001b[0m \u001b[0mJavascript\u001b[0m\u001b[0;34m(\u001b[0m\u001b[0mstyles\u001b[0m\u001b[0;34m)\u001b[0m\u001b[0;34m\u001b[0m\u001b[0m\n\u001b[0;32m----> 6\u001b[0;31m \u001b[0mjs_styling\u001b[0m\u001b[0;34m(\u001b[0m\u001b[0;34m)\u001b[0m\u001b[0;34m\u001b[0m\u001b[0m\n\u001b[0m",
        "\u001b[0;32m<ipython-input-2-01f14bc44be5>\u001b[0m in \u001b[0;36mjs_styling\u001b[0;34m()\u001b[0m\n\u001b[1;32m      2\u001b[0m \u001b[0;32mfrom\u001b[0m \u001b[0mIPython\u001b[0m\u001b[0;34m.\u001b[0m\u001b[0mcore\u001b[0m\u001b[0;34m.\u001b[0m\u001b[0mdisplay\u001b[0m \u001b[0;32mimport\u001b[0m \u001b[0mJavascript\u001b[0m\u001b[0;34m\u001b[0m\u001b[0m\n\u001b[1;32m      3\u001b[0m \u001b[0;32mdef\u001b[0m \u001b[0mjs_styling\u001b[0m\u001b[0;34m(\u001b[0m\u001b[0;34m)\u001b[0m\u001b[0;34m:\u001b[0m\u001b[0;34m\u001b[0m\u001b[0m\n\u001b[0;32m----> 4\u001b[0;31m     \u001b[0mstyles\u001b[0m \u001b[0;34m=\u001b[0m \u001b[0mopen\u001b[0m\u001b[0;34m(\u001b[0m\u001b[0;34m\"../styles/custom.js\"\u001b[0m\u001b[0;34m,\u001b[0m \u001b[0;34m\"r\"\u001b[0m\u001b[0;34m)\u001b[0m\u001b[0;34m.\u001b[0m\u001b[0mread\u001b[0m\u001b[0;34m(\u001b[0m\u001b[0;34m)\u001b[0m\u001b[0;34m\u001b[0m\u001b[0m\n\u001b[0m\u001b[1;32m      5\u001b[0m     \u001b[0;32mreturn\u001b[0m \u001b[0mJavascript\u001b[0m\u001b[0;34m(\u001b[0m\u001b[0mstyles\u001b[0m\u001b[0;34m)\u001b[0m\u001b[0;34m\u001b[0m\u001b[0m\n\u001b[1;32m      6\u001b[0m \u001b[0mjs_styling\u001b[0m\u001b[0;34m(\u001b[0m\u001b[0;34m)\u001b[0m\u001b[0;34m\u001b[0m\u001b[0m\n",
        "\u001b[0;31mIOError\u001b[0m: [Errno 2] No such file or directory: '../styles/custom.js'"
       ]
      }
     ],
     "prompt_number": 2
    },
    {
     "cell_type": "code",
     "collapsed": false,
     "input": [],
     "language": "python",
     "metadata": {},
     "outputs": []
    }
   ],
   "metadata": {}
  }
 ]
}